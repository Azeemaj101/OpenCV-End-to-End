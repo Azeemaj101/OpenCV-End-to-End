{
 "cells": [
  {
   "cell_type": "code",
   "execution_count": 2,
   "id": "e9d837ee",
   "metadata": {},
   "outputs": [],
   "source": [
    "import cv2\n",
    "import numpy as np"
   ]
  },
  {
   "cell_type": "markdown",
   "id": "703ffb20",
   "metadata": {},
   "source": [
    "### Open Video"
   ]
  },
  {
   "cell_type": "code",
   "execution_count": 3,
   "id": "13163562",
   "metadata": {},
   "outputs": [],
   "source": [
    "video_path = r'./Videos/1.mkv'"
   ]
  },
  {
   "cell_type": "code",
   "execution_count": 13,
   "id": "c3fb93e9",
   "metadata": {},
   "outputs": [],
   "source": [
    "cap = cv2.VideoCapture(video_path)\n",
    "while cap.isOpened():\n",
    "    ret, frame = cap.read()\n",
    "    if ret:\n",
    "        image = cv2.resize(frame, (600,400))\n",
    "        cv2.imshow(\"video\",image)\n",
    "        if cv2.waitKey(25) & 0xff == ord('q'):\n",
    "            break\n",
    "    else:\n",
    "        break\n",
    "        \n",
    "cap.release()\n",
    "cv2.destroyAllWindows()"
   ]
  },
  {
   "cell_type": "markdown",
   "id": "4aa650a7",
   "metadata": {},
   "source": [
    "### System Camera"
   ]
  },
  {
   "cell_type": "code",
   "execution_count": 16,
   "id": "371a9898",
   "metadata": {},
   "outputs": [],
   "source": [
    "cap = cv2.VideoCapture(0)\n",
    "while cap.isOpened():\n",
    "    ret, frame = cap.read()\n",
    "    if ret:\n",
    "        image = cv2.resize(frame, (600,400))\n",
    "        cv2.imshow(\"video\",image)\n",
    "        if cv2.waitKey(25) & 0xff == ord('q'):\n",
    "            break\n",
    "    else:\n",
    "        break\n",
    "        \n",
    "cap.release()\n",
    "cv2.destroyAllWindows()"
   ]
  },
  {
   "cell_type": "markdown",
   "id": "1835506c",
   "metadata": {},
   "source": [
    "### Frame Divide"
   ]
  },
  {
   "cell_type": "code",
   "execution_count": 17,
   "id": "a6b33214",
   "metadata": {},
   "outputs": [],
   "source": [
    "cap1 = cv2.VideoCapture(0)\n",
    "cap2 = cv2.VideoCapture(video_path)\n",
    "path = r\"./Pictures\"\n",
    "img_name = \"9.jpg\"\n",
    "while cap2.isOpened():\n",
    "    ret1, frame1 = cap1.read()\n",
    "    ret2, frame2 = cap2.read()\n",
    "    if ret1:\n",
    "        frame1 = cv2.resize(frame1, (600,400))\n",
    "        image2 = cv2.imread(path + \"\\\\\" + img_name)\n",
    "        image2 = cv2.resize(image2, (600, 400))\n",
    "        frame3 = cv2.resize(frame2, (600,400))\n",
    "        frame_1 = np.hstack((frame1, frame3))\n",
    "        frame_2 = np.hstack((image2,frame3))\n",
    "        frame_3 = np.vstack((frame_1, frame_2))\n",
    "        cv2.imshow(\"video\",frame_3)\n",
    "        if cv2.waitKey(25) & 0xff == ord('q'):\n",
    "            break\n",
    "    else:\n",
    "        break\n",
    "        \n",
    "cap1.release()\n",
    "cap2.release()\n",
    "cv2.destroyAllWindows()"
   ]
  },
  {
   "cell_type": "code",
   "execution_count": null,
   "id": "65ff7253",
   "metadata": {},
   "outputs": [],
   "source": []
  }
 ],
 "metadata": {
  "kernelspec": {
   "display_name": "Python 3 (ipykernel)",
   "language": "python",
   "name": "python3"
  },
  "language_info": {
   "codemirror_mode": {
    "name": "ipython",
    "version": 3
   },
   "file_extension": ".py",
   "mimetype": "text/x-python",
   "name": "python",
   "nbconvert_exporter": "python",
   "pygments_lexer": "ipython3",
   "version": "3.8.12"
  }
 },
 "nbformat": 4,
 "nbformat_minor": 5
}

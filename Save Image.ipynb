{
 "cells": [
  {
   "cell_type": "code",
   "execution_count": 2,
   "id": "20a4d63e",
   "metadata": {},
   "outputs": [],
   "source": [
    "import numpy as np\n",
    "import cv2\n",
    "import os"
   ]
  },
  {
   "cell_type": "markdown",
   "id": "ef0b90c5",
   "metadata": {},
   "source": [
    "### How to save image or NumPy array as image\n",
    "#### Save Numpy Array\n"
   ]
  },
  {
   "cell_type": "code",
   "execution_count": 3,
   "id": "4614466c",
   "metadata": {},
   "outputs": [],
   "source": [
    "rand_array = np.random.randint(255, size = (300,600,3))\n",
    " \n",
    "cv2.imwrite(\"rand_np_array.png\", rand_array) # imwrite(filename, img[, params])\n",
    " \n",
    "img = cv2.imread(\"rand_np_array.png\")\n",
    "cv2.imshow('image', img)\n",
    " \n",
    "cv2.waitKey(0)\n",
    "cv2.destroyAllWindows()"
   ]
  },
  {
   "cell_type": "markdown",
   "id": "8e2e1aad",
   "metadata": {},
   "source": [
    "#### Save Image"
   ]
  },
  {
   "cell_type": "code",
   "execution_count": 5,
   "id": "ec149987",
   "metadata": {},
   "outputs": [],
   "source": [
    "path = \"./Pictures\"\n",
    "img_name = \"8.jpg\"\n",
    "img = cv2.imread(path + \"\\\\\" + img_name)\n",
    "cv2.imshow(\"Image\",img)\n",
    "cv2.imwrite(\"8.1.png\",img)\n",
    "cv2.waitKey(0)\n",
    "cv2.destroyAllWindows()"
   ]
  },
  {
   "cell_type": "markdown",
   "id": "b04abf76",
   "metadata": {},
   "source": [
    "#### Save Images from Video"
   ]
  },
  {
   "cell_type": "code",
   "execution_count": 12,
   "id": "9b285e99",
   "metadata": {},
   "outputs": [],
   "source": [
    "path = \"./Videos/1.mkv\"\n",
    "cap = cv2.VideoCapture(path)\n",
    "os.mkdir(\"Video_Pictures\")\n",
    "i = 1\n",
    "while cap.isOpened():\n",
    "    ret, frame = cap.read()\n",
    "    if not ret:\n",
    "        print(\"Unable to read\")\n",
    "        break\n",
    "    cv2.imwrite(f\"./Video_Pictures/{i}.png\",frame)\n",
    "    cv2.imshow(\"Video\", frame)\n",
    "    if cv2.waitKey(25) & 0xff == ord('q'):\n",
    "        break\n",
    "    i += 1 \n",
    "cap.release()\n",
    "cv2.destroyAllWindows()"
   ]
  },
  {
   "cell_type": "code",
   "execution_count": null,
   "id": "41c26f77",
   "metadata": {},
   "outputs": [],
   "source": []
  }
 ],
 "metadata": {
  "kernelspec": {
   "display_name": "Python 3 (ipykernel)",
   "language": "python",
   "name": "python3"
  },
  "language_info": {
   "codemirror_mode": {
    "name": "ipython",
    "version": 3
   },
   "file_extension": ".py",
   "mimetype": "text/x-python",
   "name": "python",
   "nbconvert_exporter": "python",
   "pygments_lexer": "ipython3",
   "version": "3.8.12"
  }
 },
 "nbformat": 4,
 "nbformat_minor": 5
}

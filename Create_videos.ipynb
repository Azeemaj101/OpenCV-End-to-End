{
 "cells": [
  {
   "cell_type": "code",
   "execution_count": 1,
   "id": "5bf5a419",
   "metadata": {},
   "outputs": [],
   "source": [
    "import numpy as np\n",
    "import os\n",
    "import cv2"
   ]
  },
  {
   "cell_type": "code",
   "execution_count": 2,
   "id": "520a7f04",
   "metadata": {},
   "outputs": [],
   "source": [
    "width = 1280\n",
    "hieght = 720\n",
    "channel = 3\n",
    " \n",
    "fps = 30\n",
    "sec = 5\n",
    " \n",
    "# Syntax: VideoWriter_fourcc(c1, c2, c3, c4) # Concatenates 4 chars to a fourcc code\n",
    "#  cv2.VideoWriter_fourcc('M','J','P','G') or cv2.VideoWriter_fourcc(*'MJPG)\n",
    " \n",
    "fourcc = cv2.VideoWriter_fourcc(*'MP42') # FourCC is a 4-byte code used to specify the video codec.\n",
    "# A video codec is software or hardware that compresses and decompresses digital video. \n",
    "# In the context of video compression, codec is a portmanteau of encoder and decoder, \n",
    "# while a device that only compresses is typically called an encoder, and one that only \n",
    "# decompresses is a decoder. Source - Wikipedia\n",
    " \n",
    "#Syntax: cv2.VideoWriter( filename, fourcc, fps, frameSize )\n",
    "video = cv2.VideoWriter('test.mp4', fourcc, float(fps), (width, hieght))\n",
    " \n",
    "for frame_count in range(fps*sec):\n",
    "    img = np.random.randint(0,255, (hieght, width, channel), dtype = np.uint8)\n",
    "    video.write(img)\n",
    " \n",
    "video.release()"
   ]
  },
  {
   "cell_type": "code",
   "execution_count": 7,
   "id": "e17e6d99",
   "metadata": {},
   "outputs": [],
   "source": [
    "width = 1280\n",
    "hieght = 720\n",
    "channel = 3\n",
    " \n",
    "fps = 14\n",
    "sec = 14\n",
    " \n",
    "fourcc = cv2.VideoWriter_fourcc(*'MP42')\n",
    " \n",
    "video = cv2.VideoWriter('image_to_video.avi', fourcc, float(fps), (width, hieght))\n",
    " \n",
    "directry = r'./Pictures'\n",
    " \n",
    "img_name_list = os.listdir(directry)\n",
    " \n",
    "for frame_count in range(fps*sec):\n",
    "    \n",
    "    img_name = np.random.choice(img_name_list)\n",
    "    img_path = os.path.join(directry, img_name)\n",
    "    img = cv2.imread(img_path)\n",
    "    img_resize = cv2.resize(img, (width, hieght))\n",
    "     \n",
    "    video.write(img_resize)\n",
    "     \n",
    "video.release()"
   ]
  },
  {
   "cell_type": "code",
   "execution_count": null,
   "id": "c3d0ba41",
   "metadata": {},
   "outputs": [],
   "source": []
  },
  {
   "cell_type": "code",
   "execution_count": null,
   "id": "0ca5bf17",
   "metadata": {},
   "outputs": [],
   "source": []
  }
 ],
 "metadata": {
  "kernelspec": {
   "display_name": "Python 3 (ipykernel)",
   "language": "python",
   "name": "python3"
  },
  "language_info": {
   "codemirror_mode": {
    "name": "ipython",
    "version": 3
   },
   "file_extension": ".py",
   "mimetype": "text/x-python",
   "name": "python",
   "nbconvert_exporter": "python",
   "pygments_lexer": "ipython3",
   "version": "3.8.12"
  }
 },
 "nbformat": 4,
 "nbformat_minor": 5
}

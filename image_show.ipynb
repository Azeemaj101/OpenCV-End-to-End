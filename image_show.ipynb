{
 "cells": [
  {
   "cell_type": "code",
   "execution_count": 1,
   "id": "218dad4c",
   "metadata": {},
   "outputs": [],
   "source": [
    "import cv2\n",
    "import os\n",
    "import numpy as np"
   ]
  },
  {
   "cell_type": "markdown",
   "id": "cb73aeb2",
   "metadata": {},
   "source": [
    "### SHOW IMAGE ON DEFAULT SIZE"
   ]
  },
  {
   "cell_type": "code",
   "execution_count": 2,
   "id": "74a93485",
   "metadata": {},
   "outputs": [],
   "source": [
    "path = r\"\"\"./Pictures\"\"\"\n",
    "img_name = \"1.jpg\"\n",
    "img = cv2.imread(path + \"\\\\\" + img_name)\n",
    "cv2.imshow(\"image\",img)\n",
    "cv2.waitKey(0)\n",
    "cv2.destroyAllWindows()"
   ]
  },
  {
   "cell_type": "markdown",
   "id": "84122c86",
   "metadata": {},
   "source": [
    "### Resize Image"
   ]
  },
  {
   "cell_type": "code",
   "execution_count": 3,
   "id": "3ae19e3e",
   "metadata": {},
   "outputs": [],
   "source": [
    "path = r\"\"\"./Pictures\"\"\"\n",
    "img_name = \"4.jpg\"\n",
    "img = cv2.imread(path + \"\\\\\" + img_name)\n",
    "img = cv2.resize(img, (400,400))\n",
    "cv2.imshow(\"image\",img)\n",
    "cv2.waitKey(0)\n",
    "cv2.destroyAllWindows()"
   ]
  },
  {
   "cell_type": "markdown",
   "id": "7a803046",
   "metadata": {},
   "source": [
    "### Slide Share "
   ]
  },
  {
   "cell_type": "code",
   "execution_count": 4,
   "id": "a5da71d8",
   "metadata": {},
   "outputs": [],
   "source": [
    "AllName = os.listdir(\"./Pictures\")"
   ]
  },
  {
   "cell_type": "code",
   "execution_count": 5,
   "id": "28c51a5a",
   "metadata": {},
   "outputs": [],
   "source": [
    "path = r\"\"\"./Pictures\"\"\"\n",
    "img_name = AllName\n",
    "for i in img_name:\n",
    "    img = cv2.imread(path + \"\\\\\" + i)\n",
    "    img = cv2.resize(img, (300,400))\n",
    "    cv2.imshow(\"image\",img)\n",
    "    cv2.waitKey(1000)\n",
    "cv2.destroyAllWindows()"
   ]
  },
  {
   "cell_type": "markdown",
   "id": "be579c55",
   "metadata": {},
   "source": [
    "### Frame Divide "
   ]
  },
  {
   "cell_type": "code",
   "execution_count": 11,
   "id": "3d0bcabf",
   "metadata": {},
   "outputs": [],
   "source": [
    "path = r\"\"\"./Pictures\"\"\"\n",
    "img_name = AllName\n",
    "for i in img_name:\n",
    "    img = cv2.imread(path + \"\\\\\" + i)\n",
    "    img = cv2.resize(img, (300,400))\n",
    "    img2 = np.hstack((img,img))\n",
    "    img3 = np.vstack((img2,img2))\n",
    "    cv2.imshow(\"image\",img3)\n",
    "    cv2.waitKey(1000)\n",
    "cv2.destroyAllWindows()"
   ]
  },
  {
   "cell_type": "code",
   "execution_count": null,
   "id": "02f50a65",
   "metadata": {},
   "outputs": [],
   "source": []
  }
 ],
 "metadata": {
  "kernelspec": {
   "display_name": "Python 3 (ipykernel)",
   "language": "python",
   "name": "python3"
  },
  "language_info": {
   "codemirror_mode": {
    "name": "ipython",
    "version": 3
   },
   "file_extension": ".py",
   "mimetype": "text/x-python",
   "name": "python",
   "nbconvert_exporter": "python",
   "pygments_lexer": "ipython3",
   "version": "3.8.12"
  }
 },
 "nbformat": 4,
 "nbformat_minor": 5
}
